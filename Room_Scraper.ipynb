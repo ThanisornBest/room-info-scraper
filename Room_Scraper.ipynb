{
 "cells": [
  {
   "cell_type": "code",
   "execution_count": 19,
   "id": "8f013961-913c-4902-a3d4-1f1fcf33a482",
   "metadata": {
    "tags": []
   },
   "outputs": [],
   "source": [
    "import requests\n",
    "from urllib.parse import urlparse\n",
    "\n",
    "from bs4 import BeautifulSoup\n",
    "from loguru import logger\n",
    "import pandas as pd\n",
    "from selenium import webdriver"
   ]
  },
  {
   "cell_type": "code",
   "execution_count": 20,
   "id": "b8f116d9",
   "metadata": {},
   "outputs": [],
   "source": [
    "URL = \"https://suumo.jp/jj/chintai/ichiran/FR301FC001/?ar=030&bs=040&pc=30&smk=&po1=25&po2=99&shkr1=03&shkr2=03&shkr3=03&shkr4=03&rn=0220&ek=022018410&ra=013&cb=9.0&ct=13.5&md=01&md=02&md=03&md=04&ts=1&et=10&mb=30&mt=9999999&cn=9999999&tc=0400301&tc=0400601&fw2=\""
   ]
  },
  {
   "cell_type": "code",
   "execution_count": 21,
   "id": "02f5e532-eefe-4818-9e4c-ab7ba006143f",
   "metadata": {
    "tags": []
   },
   "outputs": [],
   "source": [
    "class SuumoParser():\n",
    "\n",
    "    @staticmethod\n",
    "    def data_table_parser(soup):\n",
    "        data = {}\n",
    "        data_table = soup.find_all(\n",
    "            \"table\", class_=\"data_table table_gaiyou\")[0]\n",
    "        ths = data_table.find_all(\"th\")\n",
    "        tds = data_table.find_all(\"td\")\n",
    "\n",
    "        for th, td in zip(ths, tds):\n",
    "            data[th.text] = td.text.strip()\n",
    "\n",
    "        return data\n",
    "\n",
    "    @staticmethod\n",
    "    def main_table_parser(soup):\n",
    "        data = {}\n",
    "        main_table = soup.find_all(\"table\", class_=\"property_view_table\")[0]\n",
    "        ths = main_table.find_all(\"th\", class_=\"property_view_table-title\")\n",
    "        tds = main_table.find_all(\"td\", class_=\"property_view_table-body\")\n",
    "\n",
    "        for th, td in zip(ths, tds):\n",
    "            data[th.text] = td.text.strip()\n",
    "\n",
    "        # Post-processing\n",
    "        data[\"駅徒歩\"] = data[\"駅徒歩\"].strip()\n",
    "        station_text = \"\"\n",
    "        for stat in data[\"駅徒歩\"].split(\"\\n\"):\n",
    "            station_text += stat.split(\"/\")[1] + \",\"\n",
    "        data[\"駅徒歩\"] = station_text[:-1]\n",
    "\n",
    "        data[\"専有面積\"] = float(data[\"専有面積\"].replace(\"m2\", \"\"))\n",
    "        return data\n",
    "\n",
    "    @staticmethod\n",
    "    def cost_html_parser(soup):\n",
    "        data = {}\n",
    "        notes = soup.find_all(\"div\", class_=\"property_view_note-list\")\n",
    "        first_row = notes[0]\n",
    "        data[\"rental_fee\"] = first_row.find_all(\"span\")[0].text\n",
    "        data[\"common_fee\"] = first_row.find_all(\"span\")[1].text\n",
    "        second_row = notes[1]\n",
    "        data[\"deposit\"] = second_row.find_all(\"span\")[0].text\n",
    "        data[\"key_money\"] = second_row.find_all(\"span\")[1].text\n",
    "\n",
    "        # Convert to number\n",
    "        data[\"rental_fee\"] = data[\"rental_fee\"].replace('万円', '')\n",
    "        data[\"rental_fee\"] = int(float(data[\"rental_fee\"]) * 10000)\n",
    "\n",
    "        data[\"common_fee\"] = data[\"common_fee\"].replace(\n",
    "            '管理費・共益費:\\xa0', '').replace('円', '')\n",
    "        if data[\"common_fee\"] == '-':\n",
    "            data[\"common_fee\"] = 0\n",
    "        else:\n",
    "            data[\"common_fee\"] = int(data[\"common_fee\"])\n",
    "\n",
    "        data[\"deposit\"] = data[\"deposit\"].replace(\n",
    "            '敷金:\\xa0', '').replace('万円', '')\n",
    "        if data[\"deposit\"] == '-':\n",
    "            data[\"deposit\"] = 0\n",
    "        else:\n",
    "            data[\"deposit\"] = int(float(data[\"deposit\"]) * 10000)\n",
    "\n",
    "        data[\"key_money\"] = data[\"key_money\"].replace(\n",
    "            '礼金:\\xa0', '').replace('万円', '')\n",
    "        if data[\"key_money\"] == '-':\n",
    "            data[\"key_money\"] = 0\n",
    "        else:\n",
    "            data[\"key_money\"] = int(float(data[\"key_money\"]) * 10000)\n",
    "\n",
    "        return data"
   ]
  },
  {
   "cell_type": "code",
   "execution_count": 22,
   "id": "574c24d6-1b2a-4c28-9e17-7deef62793b9",
   "metadata": {
    "tags": []
   },
   "outputs": [
    {
     "name": "stderr",
     "output_type": "stream",
     "text": [
      "2024-01-26 15:38:34.667 | INFO     | __main__:<module>:8 - Getting page 1\n",
      "2024-01-26 15:38:35.891 | INFO     | __main__:<module>:8 - Getting page 2\n",
      "2024-01-26 15:38:36.778 | INFO     | __main__:<module>:18 - There is no more room in page 2: stop\n",
      "2024-01-26 15:38:36.780 | INFO     | __main__:<module>:21 - Found total 35 hrefs\n"
     ]
    }
   ],
   "source": [
    "hrefs = []\n",
    "for i in range(1, 10):\n",
    "    if i == 1:\n",
    "        page_offset = \"\"\n",
    "    else:\n",
    "        page_offset = f\"&page={i}\"\n",
    "\n",
    "    logger.info(f\"Getting page {i}\")\n",
    "    paging_url = URL + page_offset\n",
    "    response = requests.get(paging_url)\n",
    "    soup = BeautifulSoup(response.text, \"html.parser\")\n",
    "    room_links = soup.find_all(\n",
    "        \"a\", class_=\"js-cassette_link_href cassetteitem_other-linktext\")\n",
    "    if len(room_links) > 0:\n",
    "        for room_link in room_links:\n",
    "            hrefs.append(room_link.attrs[\"href\"])\n",
    "    else:\n",
    "        logger.info(f\"There is no more room in page {i}: stop\")\n",
    "        break\n",
    "\n",
    "logger.info(f\"Found total {len(hrefs)} hrefs\")"
   ]
  },
  {
   "cell_type": "code",
   "execution_count": 23,
   "id": "6c0699a2-6c9d-4d34-8b4d-a24973d6765b",
   "metadata": {
    "tags": []
   },
   "outputs": [
    {
     "name": "stderr",
     "output_type": "stream",
     "text": [
      "2024-01-26 15:38:36.803 | INFO     | __main__:<module>:6 - Scrape https://suumo.jp/chintai/jnc_000045882323/?bc=100357943343\n",
      "2024-01-26 15:38:37.558 | INFO     | __main__:<module>:6 - Scrape https://suumo.jp/chintai/jnc_000086472028/?bc=100362633909\n",
      "2024-01-26 15:38:38.113 | INFO     | __main__:<module>:6 - Scrape https://suumo.jp/chintai/jnc_000087503103/?bc=100360178698\n",
      "2024-01-26 15:38:38.578 | INFO     | __main__:<module>:6 - Scrape https://suumo.jp/chintai/jnc_000085287073/?bc=100345769912\n",
      "2024-01-26 15:38:39.161 | INFO     | __main__:<module>:6 - Scrape https://suumo.jp/chintai/jnc_000049219486/?bc=100362641779\n",
      "2024-01-26 15:38:39.600 | INFO     | __main__:<module>:6 - Scrape https://suumo.jp/chintai/jnc_000087700809/?bc=100361638773\n",
      "2024-01-26 15:38:40.044 | INFO     | __main__:<module>:6 - Scrape https://suumo.jp/chintai/jnc_000087700808/?bc=100361635425\n",
      "2024-01-26 15:38:40.472 | INFO     | __main__:<module>:6 - Scrape https://suumo.jp/chintai/jnc_000045882322/?bc=100346262268\n",
      "2024-01-26 15:38:40.994 | INFO     | __main__:<module>:6 - Scrape https://suumo.jp/chintai/jnc_000087854997/?bc=100360247100\n",
      "2024-01-26 15:38:41.434 | INFO     | __main__:<module>:6 - Scrape https://suumo.jp/chintai/jnc_000040433392/?bc=100362445253\n",
      "2024-01-26 15:38:41.915 | INFO     | __main__:<module>:6 - Scrape https://suumo.jp/chintai/jnc_000087233807/?bc=100358664080\n",
      "2024-01-26 15:38:42.428 | INFO     | __main__:<module>:6 - Scrape https://suumo.jp/chintai/jnc_000087339685/?bc=100356553330\n",
      "2024-01-26 15:38:42.984 | INFO     | __main__:<module>:6 - Scrape https://suumo.jp/chintai/jnc_000073850784/?bc=100351369586\n",
      "2024-01-26 15:38:43.458 | INFO     | __main__:<module>:6 - Scrape https://suumo.jp/chintai/jnc_000084735761/?bc=100343183534\n",
      "2024-01-26 15:38:44.119 | INFO     | __main__:<module>:6 - Scrape https://suumo.jp/chintai/jnc_000036432756/?bc=100361709536\n",
      "2024-01-26 15:38:44.699 | INFO     | __main__:<module>:6 - Scrape https://suumo.jp/chintai/jnc_000087583955/?bc=100360609530\n",
      "2024-01-26 15:38:45.208 | INFO     | __main__:<module>:6 - Scrape https://suumo.jp/chintai/jnc_000087599080/?bc=100360978028\n",
      "2024-01-26 15:38:45.895 | INFO     | __main__:<module>:6 - Scrape https://suumo.jp/chintai/jnc_000040005022/?bc=100360932863\n",
      "2024-01-26 15:38:46.387 | INFO     | __main__:<module>:6 - Scrape https://suumo.jp/chintai/jnc_000049271710/?bc=100327475111\n",
      "2024-01-26 15:38:47.105 | INFO     | __main__:<module>:6 - Scrape https://suumo.jp/chintai/jnc_000049043300/?bc=100325251419\n",
      "2024-01-26 15:38:47.703 | INFO     | __main__:<module>:6 - Scrape https://suumo.jp/chintai/jnc_000087339683/?bc=100356940044\n",
      "2024-01-26 15:38:48.450 | INFO     | __main__:<module>:6 - Scrape https://suumo.jp/chintai/jnc_000087683634/?bc=100361248935\n",
      "2024-01-26 15:38:49.108 | INFO     | __main__:<module>:6 - Scrape https://suumo.jp/chintai/jnc_000058842404/?bc=100353744544\n",
      "2024-01-26 15:38:50.204 | INFO     | __main__:<module>:6 - Scrape https://suumo.jp/chintai/jnc_000087545689/?bc=100360417545\n",
      "2024-01-26 15:38:51.058 | INFO     | __main__:<module>:6 - Scrape https://suumo.jp/chintai/jnc_000085716238/?bc=100345382007\n",
      "2024-01-26 15:38:51.679 | INFO     | __main__:<module>:6 - Scrape https://suumo.jp/chintai/jnc_000087887577/?bc=100362676827\n",
      "2024-01-26 15:38:52.611 | INFO     | __main__:<module>:6 - Scrape https://suumo.jp/chintai/jnc_000041397950/?bc=100340536943\n",
      "2024-01-26 15:38:53.382 | INFO     | __main__:<module>:6 - Scrape https://suumo.jp/chintai/jnc_000041390863/?bc=100340325725\n",
      "2024-01-26 15:38:54.053 | INFO     | __main__:<module>:6 - Scrape https://suumo.jp/chintai/jnc_000049621324/?bc=100358974861\n",
      "2024-01-26 15:38:54.657 | INFO     | __main__:<module>:6 - Scrape https://suumo.jp/chintai/jnc_000087258220/?bc=100358734136\n",
      "2024-01-26 15:38:55.447 | INFO     | __main__:<module>:6 - Scrape https://suumo.jp/chintai/jnc_000061416703/?bc=100359576379\n",
      "2024-01-26 15:38:56.124 | INFO     | __main__:<module>:6 - Scrape https://suumo.jp/chintai/jnc_000084749772/?bc=100342404020\n",
      "2024-01-26 15:38:56.556 | INFO     | __main__:<module>:6 - Scrape https://suumo.jp/chintai/jnc_000087657896/?bc=100361103455\n",
      "2024-01-26 15:38:57.089 | INFO     | __main__:<module>:6 - Scrape https://suumo.jp/chintai/jnc_000074556472/?bc=100284318972\n",
      "2024-01-26 15:38:57.707 | INFO     | __main__:<module>:6 - Scrape https://suumo.jp/chintai/jnc_000086450572/?bc=100353461586\n"
     ]
    }
   ],
   "source": [
    "parsed_uri = urlparse(URL)\n",
    "base_url = '{uri.scheme}://{uri.netloc}'.format(uri=parsed_uri)\n",
    "data = []\n",
    "for href in hrefs:\n",
    "    room_url = base_url + href\n",
    "    logger.info(f\"Scrape {room_url}\")\n",
    "    response = requests.get(room_url)\n",
    "    soup = BeautifulSoup(response.text, \"html.parser\")\n",
    "\n",
    "    title = soup.find_all(\"h1\", class_=\"section_h1-header-title\")[0].text\n",
    "\n",
    "    cost_data = SuumoParser.cost_html_parser(soup)\n",
    "    main_table_data = SuumoParser.main_table_parser(soup)\n",
    "    data_table_data = SuumoParser.data_table_parser(soup)\n",
    "\n",
    "    features = soup.find_all(\n",
    "        \"div\", class_=\"bgc-wht ol-g\")[0].text.strip().split(\"、\")\n",
    "    features.sort()\n",
    "\n",
    "    room_data = {\n",
    "        \"title\": title,\n",
    "        \"url\": room_url,\n",
    "        **cost_data,\n",
    "        **main_table_data,\n",
    "        **data_table_data,\n",
    "        \"features\": features\n",
    "    }\n",
    "\n",
    "    data.append(room_data)"
   ]
  },
  {
   "cell_type": "code",
   "execution_count": 25,
   "id": "229f5af7-a3da-40fe-9867-f8625e562861",
   "metadata": {
    "tags": []
   },
   "outputs": [],
   "source": [
    "df = pd.DataFrame(data)\n",
    "df[\"total_fee\"] = df[\"common_fee\"] + df[\"rental_fee\"]\n",
    "df[\"fee_per_m2\"] = df[\"total_fee\"] / df[\"専有面積\"]\n",
    "columns = [\"title\", \"total_fee\", \"fee_per_m2\"] + list(df.columns[1:-2])\n",
    "df = df[columns]\n",
    "# drop column with total fee > 135000\n",
    "df = df[df[\"total_fee\"] <= 135000]\n",
    "df.sort_values(by=[\"fee_per_m2\", \"専有面積\", \"間取り\"], ascending=False, inplace=True)"
   ]
  },
  {
   "cell_type": "code",
   "execution_count": null,
   "id": "137a8593-fd4d-4628-9082-d43158cd2dd1",
   "metadata": {
    "tags": []
   },
   "outputs": [],
   "source": [
    "df.to_csv(\"suumo_watcher.csv\", index=False)"
   ]
  },
  {
   "cell_type": "code",
   "execution_count": null,
   "id": "c38cf8a8-be12-426f-8c82-c45c0d19082b",
   "metadata": {},
   "outputs": [],
   "source": [
    "df.to_excel(\"suumo_watcher.xlsx\", index=False)"
   ]
  }
 ],
 "metadata": {
  "kernelspec": {
   "display_name": "Python 3 (ipykernel)",
   "language": "python",
   "name": "python3"
  },
  "language_info": {
   "codemirror_mode": {
    "name": "ipython",
    "version": 3
   },
   "file_extension": ".py",
   "mimetype": "text/x-python",
   "name": "python",
   "nbconvert_exporter": "python",
   "pygments_lexer": "ipython3",
   "version": "3.9.16"
  }
 },
 "nbformat": 4,
 "nbformat_minor": 5
}
