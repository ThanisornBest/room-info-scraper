{
 "cells": [
  {
   "cell_type": "code",
   "execution_count": null,
   "id": "8f013961-913c-4902-a3d4-1f1fcf33a482",
   "metadata": {
    "tags": []
   },
   "outputs": [],
   "source": [
    "import requests\n",
    "from urllib.parse import urlparse\n",
    "\n",
    "from bs4 import BeautifulSoup\n",
    "from loguru import logger\n",
    "import pandas as pd\n",
    "from selenium import webdriver"
   ]
  },
  {
   "cell_type": "code",
   "execution_count": null,
   "id": "b8f116d9",
   "metadata": {},
   "outputs": [],
   "source": [
    "URL = \"\" # Suumo Search result URLs"
   ]
  },
  {
   "cell_type": "code",
   "execution_count": null,
   "id": "02f5e532-eefe-4818-9e4c-ab7ba006143f",
   "metadata": {
    "tags": []
   },
   "outputs": [],
   "source": [
    "class SuumoParser():\n",
    "    \n",
    "    @staticmethod\n",
    "    def data_table_parser(soup):\n",
    "        data = {}\n",
    "        data_table = soup.find_all(\"table\", class_=\"data_table table_gaiyou\")[0]\n",
    "        ths = data_table.find_all(\"th\")\n",
    "        tds = data_table.find_all(\"td\")\n",
    "\n",
    "        for th, td in zip(ths, tds):\n",
    "            data[th.text] = td.text.strip()\n",
    "\n",
    "        return data\n",
    "\n",
    "    @staticmethod\n",
    "    def main_table_parser(soup):\n",
    "        data = {}\n",
    "        main_table = soup.find_all(\"table\", class_=\"property_view_table\")[0]\n",
    "        ths = main_table.find_all(\"th\", class_=\"property_view_table-title\")\n",
    "        tds = main_table.find_all(\"td\", class_=\"property_view_table-body\")\n",
    "\n",
    "        for th, td in zip(ths, tds):\n",
    "            data[th.text] = td.text.strip()\n",
    "\n",
    "        # Post-processing\n",
    "        data[\"駅徒歩\"] = data[\"駅徒歩\"].strip()\n",
    "        station_text = \"\"\n",
    "        for stat in data[\"駅徒歩\"].split(\"\\n\"):\n",
    "            station_text += stat.split(\"/\")[1] + \",\"\n",
    "        data[\"駅徒歩\"] = station_text[:-1]\n",
    "\n",
    "        data[\"専有面積\"] = float(data[\"専有面積\"].replace(\"m2\", \"\"))\n",
    "        return data\n",
    "    \n",
    "    @staticmethod\n",
    "    def cost_html_parser(soup):\n",
    "        data = {}\n",
    "        notes = soup.find_all(\"div\", class_=\"property_view_note-list\")\n",
    "        first_row = notes[0]\n",
    "        data[\"rental_fee\"] = first_row.find_all(\"span\")[0].text\n",
    "        data[\"common_fee\"] = first_row.find_all(\"span\")[1].text\n",
    "        second_row = notes[1]\n",
    "        data[\"deposit\"] = second_row.find_all(\"span\")[0].text\n",
    "        data[\"key_money\"] = second_row.find_all(\"span\")[1].text\n",
    "\n",
    "        # Convert to number\n",
    "        data[\"rental_fee\"] = data[\"rental_fee\"].replace('万円', '')\n",
    "        data[\"rental_fee\"] = int(float(data[\"rental_fee\"]) * 10000)\n",
    "\n",
    "        data[\"common_fee\"] = data[\"common_fee\"].replace('管理費・共益費:\\xa0', '').replace('円', '')\n",
    "        if data[\"common_fee\"] == '-':\n",
    "            data[\"common_fee\"] = 0\n",
    "        else:\n",
    "            data[\"common_fee\"] = int(data[\"common_fee\"])\n",
    "\n",
    "        data[\"deposit\"] = data[\"deposit\"].replace('敷金:\\xa0', '').replace('万円', '')\n",
    "        if data[\"deposit\"] == '-':\n",
    "            data[\"deposit\"] = 0\n",
    "        else:\n",
    "            data[\"deposit\"] = int(float(data[\"deposit\"]) * 10000)    \n",
    "\n",
    "        data[\"key_money\"] = data[\"key_money\"].replace('礼金:\\xa0', '').replace('万円', '')\n",
    "        if data[\"key_money\"] == '-':\n",
    "            data[\"key_money\"] = 0\n",
    "        else:\n",
    "            data[\"key_money\"] = int(float(data[\"key_money\"]) * 10000)\n",
    "\n",
    "        return data"
   ]
  },
  {
   "cell_type": "code",
   "execution_count": null,
   "id": "574c24d6-1b2a-4c28-9e17-7deef62793b9",
   "metadata": {
    "tags": []
   },
   "outputs": [],
   "source": [
    "hrefs = []\n",
    "for i in range(1, 10):\n",
    "    if i == 1:\n",
    "        page_offset = \"\"\n",
    "    else: \n",
    "        page_offset = f\"&page={i}\"\n",
    "    \n",
    "    logger.info(f\"Getting page {i}\")\n",
    "    paging_url = URL + page_offset\n",
    "    response = requests.get(paging_url)\n",
    "    soup = BeautifulSoup(response.text, \"html.parser\")\n",
    "    room_links = soup.find_all(\"a\", class_=\"js-cassette_link_href cassetteitem_other-linktext\")\n",
    "    if len(room_links) > 0:\n",
    "        for room_link in room_links:\n",
    "            hrefs.append(room_link.attrs[\"href\"])\n",
    "    else:\n",
    "        logger.info(f\"There is no more room in page {i}: stop\")\n",
    "        break\n",
    "\n",
    "logger.info(f\"Found total {len(hrefs)} hrefs\")"
   ]
  },
  {
   "cell_type": "code",
   "execution_count": null,
   "id": "6c0699a2-6c9d-4d34-8b4d-a24973d6765b",
   "metadata": {
    "tags": []
   },
   "outputs": [],
   "source": [
    "parsed_uri = urlparse(url)\n",
    "base_url = '{uri.scheme}://{uri.netloc}'.format(uri=parsed_uri)\n",
    "data = []\n",
    "for href in hrefs:\n",
    "    room_url = base_url + href\n",
    "    logger.info(f\"Scrape {room_url}\")\n",
    "    response = requests.get(room_url)\n",
    "    soup = BeautifulSoup(response.text, \"html.parser\")\n",
    "    \n",
    "    title = soup.find_all(\"h1\", class_=\"section_h1-header-title\")[0].text\n",
    "    \n",
    "    cost_data = SuumoParser.cost_html_parser(soup)\n",
    "    main_table_data = SuumoParser.main_table_parser(soup)\n",
    "    data_table_data = SuumoParser.data_table_parser(soup)\n",
    "    \n",
    "    features = soup.find_all(\"div\", class_=\"bgc-wht ol-g\")[0].text.strip().split(\"、\")\n",
    "    features.sort()\n",
    "    \n",
    "    room_data = {\n",
    "        \"title\": title,\n",
    "        **cost_data,\n",
    "        **main_table_data,\n",
    "        **data_table_data,\n",
    "        \"features\": features\n",
    "    }\n",
    "    \n",
    "    data.append(room_data)"
   ]
  },
  {
   "cell_type": "code",
   "execution_count": null,
   "id": "229f5af7-a3da-40fe-9867-f8625e562861",
   "metadata": {
    "tags": []
   },
   "outputs": [],
   "source": [
    "df = pd.DataFrame(data)\n",
    "df[\"total_fee\"] = df[\"common_fee\"] + df[\"rental_fee\"]\n",
    "columns = [\"title\", \"total_fee\"] + list(df.columns[1:-1])\n",
    "df = df[columns]\n",
    "df.sort_values(by=[\"total_fee\", \"専有面積\", \"間取り\"], ascending=False, inplace=True)"
   ]
  },
  {
   "cell_type": "code",
   "execution_count": null,
   "id": "137a8593-fd4d-4628-9082-d43158cd2dd1",
   "metadata": {
    "tags": []
   },
   "outputs": [],
   "source": [
    "df.to_csv(\"suumo_watcher.csv\", index=False)"
   ]
  },
  {
   "cell_type": "code",
   "execution_count": null,
   "id": "c38cf8a8-be12-426f-8c82-c45c0d19082b",
   "metadata": {},
   "outputs": [],
   "source": []
  }
 ],
 "metadata": {
  "kernelspec": {
   "display_name": "Python 3 (ipykernel)",
   "language": "python",
   "name": "python3"
  },
  "language_info": {
   "codemirror_mode": {
    "name": "ipython",
    "version": 3
   },
   "file_extension": ".py",
   "mimetype": "text/x-python",
   "name": "python",
   "nbconvert_exporter": "python",
   "pygments_lexer": "ipython3",
   "version": "3.10.13"
  }
 },
 "nbformat": 4,
 "nbformat_minor": 5
}
